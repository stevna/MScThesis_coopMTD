{
 "cells": [
  {
   "cell_type": "code",
   "execution_count": 1,
   "metadata": {},
   "outputs": [
    {
     "name": "stdout",
     "output_type": "stream",
     "text": [
      "        time  CPUPerc  RAMPerc  RAMAvailable    RAMTotal  BashliteActive\n",
      "0   13:58:23     19.6     15.1    3148521472  3706695680           False\n",
      "1   13:58:25     14.6     15.1    3148533760  3706695680           False\n",
      "2   13:58:27     14.6     15.1    3148533760  3706695680           False\n",
      "3   13:58:29     14.4     15.1    3148541952  3706695680           False\n",
      "4   13:58:31     16.7     15.1    3148541952  3706695680           False\n",
      "..       ...      ...      ...           ...         ...             ...\n",
      "75  14:00:55     17.3     15.1    3148492800  3706695680           False\n",
      "76  14:00:57     14.6     15.1    3148500992  3706695680           False\n",
      "77  14:00:59     14.4     15.1    3148500992  3706695680           False\n",
      "78  14:01:01     15.5     15.1    3148500992  3706695680           False\n",
      "79  14:01:03     14.6     15.1    3148509184  3706695680           False\n",
      "\n",
      "[80 rows x 6 columns]\n"
     ]
    }
   ],
   "source": [
    "import matplotlib.pyplot as plt\n",
    "import pandas as pd\n",
    "from matplotlib.pyplot import figure\n",
    "\n",
    "# Read in the data from the CSV file\n",
    "CPURAMdata = pd.read_csv('CPURAMdataVM1WithoutMTD.txt')\n",
    "print(CPURAMdata)"
   ]
  },
  {
   "cell_type": "code",
   "execution_count": 2,
   "metadata": {},
   "outputs": [],
   "source": [
    "from datetime import datetime\n",
    "\n",
    "newTime = []\n",
    "\n",
    "def getSeconds(timeValue):\n",
    "    timeArray = timeValue.split(\":\")\n",
    "    numSeconds = int(timeArray[0])*3600 + int(timeArray[1]) * 60 + int(timeArray[2])\n",
    "    return numSeconds\n",
    "    \n",
    "startTime = getSeconds(CPURAMdata[\"time\"][0])\n",
    "\n",
    "\n",
    "for i,timeValue in enumerate(CPURAMdata[\"time\"]):\n",
    "    timeDif = getSeconds(timeValue) - startTime\n",
    "    newTime.append(timeDif)\n",
    "    "
   ]
  },
  {
   "cell_type": "code",
   "execution_count": 3,
   "metadata": {},
   "outputs": [
    {
     "name": "stdout",
     "output_type": "stream",
     "text": [
      "The RAM mean with Bashlite not running is: 15.35625\n",
      "The highest Ram value  is: 19.6\n",
      "The lowest Ram value  is: 13.4\n"
     ]
    },
    {
     "data": {
      "image/png": "[encoded data removed]",
      "text/plain": [
       "<Figure size 720x432 with 1 Axes>"
      ]
     },
     "metadata": {
      "needs_background": "light"
     },
     "output_type": "display_data"
    }
   ],
   "source": [
    "import matplotlib.pyplot as plt\n",
    "\n",
    "CPURAMdata[\"time\"] = newTime\n",
    "\n",
    "fig, ax = plt.subplots(figsize=(10,6))\n",
    "\n",
    "ax.scatter(CPURAMdata['time'], CPURAMdata['CPUPerc'], c=['red' if i==True else 'blue' for i in CPURAMdata['BashliteActive']])\n",
    "bashliteNotRunningMean = CPURAMdata[CPURAMdata['BashliteActive'] == False]['CPUPerc'].mean()\n",
    "\n",
    "\n",
    "highestValueRAM = 0\n",
    "lowestValueRAM = 100\n",
    "\n",
    "for index, row in CPURAMdata.iterrows():\n",
    "    if row[\"CPUPerc\"] > highestValueRAM:\n",
    "        highestValueRAM = row[\"CPUPerc\"]\n",
    "        \n",
    "    elif row[\"CPUPerc\"] < lowestValueRAM:\n",
    "        lowestValueRAM = row[\"CPUPerc\"]\n",
    "    else:\n",
    "        pass\n",
    "    \n",
    "    \n",
    "    \n",
    "print(f\"The RAM mean with Bashlite not running is: {bashliteNotRunningMean}\")\n",
    "print(f\"The highest Ram value  is: {highestValueRAM}\")\n",
    "print(f\"The lowest Ram value  is: {lowestValueRAM}\")\n",
    "plt.legend([\"No Bashlite Running\"])\n",
    "plt.ylim(0, 70)\n",
    "ax.axhline(bashliteNotRunningMean, color='b', linestyle='--', label='mean')\n",
    "plt.title('CPU Usage over Time with no MTD Deployed')\n",
    "plt.xlabel('Time in Seconds')\n",
    "plt.ylabel('CPU Usage in %')\n",
    "\n",
    "plt.show()\n"
   ]
  },
  {
   "cell_type": "code",
   "execution_count": null,
   "metadata": {},
   "outputs": [],
   "source": []
  },
  {
   "cell_type": "code",
   "execution_count": null,
   "metadata": {},
   "outputs": [],
   "source": []
  }
 ],
 "metadata": {
  "kernelspec": {
   "display_name": "Python 3",
   "language": "python",
   "name": "python3"
  },
  "language_info": {
   "codemirror_mode": {
    "name": "ipython",
    "version": 3
   },
   "file_extension": ".py",
   "mimetype": "text/x-python",
   "name": "python",
   "nbconvert_exporter": "python",
   "pygments_lexer": "ipython3",
   "version": "3.8.5"
  }
 },
 "nbformat": 4,
 "nbformat_minor": 4
}
