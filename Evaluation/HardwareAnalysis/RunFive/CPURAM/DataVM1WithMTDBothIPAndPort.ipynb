{
 "cells": [
  {
   "cell_type": "code",
   "execution_count": 1,
   "metadata": {},
   "outputs": [
    {
     "name": "stdout",
     "output_type": "stream",
     "text": [
      "          time  cpu   ram\n",
      "0     12:12:34  0.0  9940\n",
      "1     12:12:35  0.0  9940\n",
      "2     12:12:36  0.0  9940\n",
      "3     12:12:37  0.0  9940\n",
      "4     12:12:38  0.0  9940\n",
      "...        ...  ...   ...\n",
      "1695  12:41:59  0.0  9940\n",
      "1696  12:42:00  0.0  9940\n",
      "1697  12:42:01  0.0  9940\n",
      "1698  12:42:02  0.0  9940\n",
      "1699  12:42:03  0.0  9940\n",
      "\n",
      "[1700 rows x 3 columns]\n",
      "          time  cpu   ram\n",
      "0     12:12:21  0.0  9968\n",
      "1     12:12:22  0.0  9968\n",
      "2     12:12:23  0.0  9968\n",
      "3     12:12:24  0.0  9968\n",
      "4     12:12:25  0.0  9968\n",
      "...        ...  ...   ...\n",
      "1595  12:41:02  0.0  9968\n",
      "1596  12:41:03  0.0  9968\n",
      "1597  12:41:04  0.0  9968\n",
      "1598  12:41:05  0.0  9968\n",
      "1599  12:41:06  0.0  9968\n",
      "\n",
      "[1600 rows x 3 columns]\n"
     ]
    }
   ],
   "source": [
    "import matplotlib.pyplot as plt\n",
    "import pandas as pd\n",
    "from matplotlib.pyplot import figure\n",
    "from datetime import datetime\n",
    "import numpy as np\n",
    "import os\n",
    "\n",
    "\n",
    "font = {'size': 13}\n",
    "plt.rc('font', **font)\n",
    "\n",
    "\n",
    "path = os.path.abspath(\"C:/Users/steve/Google Drive/Master/Masterarbet/Evaluation/graphics/disruption\")\n",
    "\n",
    "\n",
    "dataVM1WithBoth = pd.read_csv('DataVM1WithMTDBothActive.txt')\n",
    "dataVM2WithBoth = pd.read_csv('DataVM2WithMTDBothActive.txt')\n",
    "\n",
    "dataVM1WithBoth = dataVM1WithBoth.iloc[1200:2900]\n",
    "dataVM2WithBoth = dataVM2WithBoth.iloc[1200:2800]\n",
    "\n",
    "dataVM1WithBoth = dataVM1WithBoth.reset_index(drop=True)\n",
    "dataVM2WithBoth = dataVM2WithBoth.reset_index(drop=True)\n",
    "\n",
    "print(dataVM1WithBoth)\n",
    "print(dataVM2WithBoth)"
   ]
  },
  {
   "cell_type": "code",
   "execution_count": 2,
   "metadata": {},
   "outputs": [
    {
     "name": "stdout",
     "output_type": "stream",
     "text": [
      "12:12:34\n",
      "      time  cpu   ram\n",
      "0        0  0.0  9940\n",
      "1        1  0.0  9940\n",
      "2        2  0.0  9940\n",
      "3        3  0.0  9940\n",
      "4        4  0.0  9940\n",
      "...    ...  ...   ...\n",
      "1695  1765  0.0  9940\n",
      "1696  1766  0.0  9940\n",
      "1697  1767  0.0  9940\n",
      "1698  1768  0.0  9940\n",
      "1699  1769  0.0  9940\n",
      "\n",
      "[1700 rows x 3 columns]\n",
      "12:12:21\n",
      "      time  cpu   ram\n",
      "0        0  0.0  9968\n",
      "1        1  0.0  9968\n",
      "2        2  0.0  9968\n",
      "3        3  0.0  9968\n",
      "4        4  0.0  9968\n",
      "...    ...  ...   ...\n",
      "1595  1721  0.0  9968\n",
      "1596  1722  0.0  9968\n",
      "1597  1723  0.0  9968\n",
      "1598  1724  0.0  9968\n",
      "1599  1725  0.0  9968\n",
      "\n",
      "[1600 rows x 3 columns]\n"
     ]
    }
   ],
   "source": [
    "\n",
    "def replaceTimeWithSeconds(df):\n",
    "    startTime = df.iloc[0][\"time\"]\n",
    "    print(startTime)\n",
    "\n",
    "    for index, row in df.iterrows():\n",
    "        if index == df.index[0]:\n",
    "            df.at[index,\"time\"] = 0\n",
    "        else:\n",
    "            newTime = pd.to_datetime(df.iloc[index][\"time\"]) - pd.to_datetime(startTime)\n",
    "            newTime = newTime.total_seconds()\n",
    "            df.at[index, \"time\"] = newTime\n",
    "\n",
    "    print(df)\n",
    "    return df\n",
    "    \n",
    "dataVM1WithBoth = replaceTimeWithSeconds(dataVM1WithBoth)\n",
    "dataVM2WithBoth = replaceTimeWithSeconds(dataVM2WithBoth)\n",
    "\n",
    "    "
   ]
  },
  {
   "cell_type": "code",
   "execution_count": null,
   "metadata": {},
   "outputs": [],
   "source": []
  },
  {
   "cell_type": "code",
   "execution_count": 3,
   "metadata": {},
   "outputs": [
    {
     "name": "stdout",
     "output_type": "stream",
     "text": [
      "      time  cpu   ram\n",
      "0        0  0.0  9940\n",
      "1        1  0.0  9940\n",
      "2        2  0.0  9940\n",
      "3        3  0.0  9940\n",
      "4        4  0.0  9940\n",
      "...    ...  ...   ...\n",
      "1695  1765  0.0  9940\n",
      "1696  1766  0.0  9940\n",
      "1697  1767  0.0  9940\n",
      "1698  1768  0.0  9940\n",
      "1699  1769  0.0  9940\n",
      "\n",
      "[1700 rows x 3 columns]\n",
      "      time  cpu   ram\n",
      "0        0  0.0  9968\n",
      "1        1  0.0  9968\n",
      "2        2  0.0  9968\n",
      "3        3  0.0  9968\n",
      "4        4  0.0  9968\n",
      "...    ...  ...   ...\n",
      "1595  1721  0.0  9968\n",
      "1596  1722  0.0  9968\n",
      "1597  1723  0.0  9968\n",
      "1598  1724  0.0  9968\n",
      "1599  1725  0.0  9968\n",
      "\n",
      "[1600 rows x 3 columns]\n"
     ]
    },
    {
     "data": {
      "image/png": "[encoded data removed]",
      "text/plain": [
       "<Figure size 720x432 with 1 Axes>"
      ]
     },
     "metadata": {
      "needs_background": "light"
     },
     "output_type": "display_data"
    }
   ],
   "source": [
    "print(dataVM1WithBoth)\n",
    "print(dataVM2WithBoth)\n",
    "\n",
    "fig, ax = plt.subplots(figsize=(10,6))\n",
    "\n",
    "plt.plot(dataVM1WithBoth['time'], dataVM1WithBoth['ram'],label='VM1')\n",
    "plt.plot(dataVM2WithBoth['time'], dataVM2WithBoth['ram'],label='VM2')\n",
    "plt.xlabel('Time in Seconds')\n",
    "plt.ylabel('RAM Usage in Bytes')\n",
    "\n",
    "\n",
    "#plt.ylim(0, 15000)\n",
    "\n",
    "plt.legend()\n",
    "plt.title('RAM Usage in Bytes Over Time of the MTD Framework on Both VMs')\n",
    "plt.tight_layout()\n",
    "filename = \"RAMUSageBoth.png\"\n",
    "plt.savefig(os.path.join(path,filename),dpi= 800)\n",
    "\n",
    "plt.show()"
   ]
  },
  {
   "cell_type": "code",
   "execution_count": null,
   "metadata": {},
   "outputs": [],
   "source": []
  }
 ],
 "metadata": {
  "kernelspec": {
   "display_name": "Python 3",
   "language": "python",
   "name": "python3"
  },
  "language_info": {
   "codemirror_mode": {
    "name": "ipython",
    "version": 3
   },
   "file_extension": ".py",
   "mimetype": "text/x-python",
   "name": "python",
   "nbconvert_exporter": "python",
   "pygments_lexer": "ipython3",
   "version": "3.8.3"
  }
 },
 "nbformat": 4,
 "nbformat_minor": 4
}
